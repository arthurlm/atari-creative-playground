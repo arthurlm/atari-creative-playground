{
 "cells": [
  {
   "cell_type": "code",
   "execution_count": 1,
   "metadata": {},
   "outputs": [],
   "source": [
    "import math\n",
    "import numpy as np"
   ]
  },
  {
   "cell_type": "markdown",
   "metadata": {},
   "source": [
    "# Small studdy on approximation"
   ]
  },
  {
   "cell_type": "code",
   "execution_count": 2,
   "metadata": {},
   "outputs": [
    {
     "name": "stdout",
     "output_type": "stream",
     "text": [
      "min(cos_table)=-999, max(cos_table)=1000\n"
     ]
    }
   ],
   "source": [
    "size = 1000\n",
    "cos_table = [int(math.cos(x / size) * size) for x in  range(0, math.floor(math.pi * 2 * size))]\n",
    "\n",
    "print(f\"{min(cos_table)=}, {max(cos_table)=}\")\n",
    "# cos_table"
   ]
  },
  {
   "cell_type": "code",
   "execution_count": 3,
   "metadata": {},
   "outputs": [
    {
     "name": "stdout",
     "output_type": "stream",
     "text": [
      "0.0       : 0.0\n",
      "1.5708    : 0.0\n",
      "3.1416    : 0.0010000000000000009\n",
      "9.4248    : 0.0010000000000000009\n"
     ]
    },
    {
     "data": {
      "text/plain": [
       "('mean diff: ', -5.584725536992502e-06)"
      ]
     },
     "execution_count": 3,
     "metadata": {},
     "output_type": "execute_result"
    }
   ],
   "source": [
    "\n",
    "def sotf_cos(x):\n",
    "    return cos_table[math.floor(x) % len(cos_table)]\n",
    "\n",
    "def diff_soft_cos(x):\n",
    "    value = sotf_cos(x * size) / size\n",
    "    return value - round(math.cos(x), 5)\n",
    "\n",
    "def print_diff(x):\n",
    "    print(f\"{float(x):<10.5}: {diff_soft_cos(x)}\")\n",
    "\n",
    "\n",
    "print_diff(0)\n",
    "print_diff(math.pi / 2)\n",
    "print_diff(math.pi)\n",
    "print_diff(math.pi * 3)\n",
    "\n",
    "\"mean diff: \", np.mean([diff_soft_cos(x) for x in np.arange(0, math.pi * 2 * 4, 0.01)])"
   ]
  },
  {
   "cell_type": "markdown",
   "metadata": {},
   "source": [
    "# Code generator"
   ]
  },
  {
   "cell_type": "code",
   "execution_count": 4,
   "metadata": {},
   "outputs": [],
   "source": [
    "import math\n",
    "\n",
    "size = 2000\n",
    "cos_table = [int(math.cos(x / size) * size) for x in  range(0, math.floor(math.pi * 2 * size))]\n",
    "sin_table = [int(math.sin(x / size) * size) for x in  range(0, math.floor(math.pi * 2 * size))]"
   ]
  },
  {
   "cell_type": "code",
   "execution_count": 6,
   "metadata": {},
   "outputs": [
    {
     "data": {
      "text/plain": [
       "162784"
      ]
     },
     "execution_count": 6,
     "metadata": {},
     "output_type": "execute_result"
    }
   ],
   "source": [
    "from  pathlib import Path\n",
    "\n",
    "h_src = Path(\"./src/includes/trigo.h\")\n",
    "c_src = Path(\"./src/trigo.c\")\n",
    "\n",
    "h_content = \"\"\"\n",
    "#ifndef _TRIGO_H_\n",
    "#define _TRIGO_H_\n",
    "\n",
    "#include <stdint.h>\n",
    "\n",
    "typedef int16_t softfloat_t;\n",
    "\n",
    "softfloat_t float_scale();\n",
    "softfloat_t soft_cos(softfloat_t value);\n",
    "softfloat_t soft_sin(softfloat_t value);\n",
    "\n",
    "#endif // _TRIGO_H_\n",
    "\"\"\".strip()\n",
    "\n",
    "c_content = \"\"\"\n",
    "#include \"trigo.h\"\n",
    "\"\"\".strip()\n",
    "\n",
    "def append_table(name, values):\n",
    "    global c_content\n",
    "    c_content += f\"\"\"\n",
    "\n",
    "static softfloat_t _{name}_table[] = {{\n",
    "\"\"\".rstrip()\n",
    "\n",
    "    for idx, value in enumerate(values):\n",
    "        if idx > 0:\n",
    "            c_content += \", \"\n",
    "        if idx % 15 == 0:\n",
    "            c_content += \"\\n    \"\n",
    "        c_content += f\"{value}\"\n",
    "\n",
    "    c_content += \"};\"\n",
    "\n",
    "append_table(\"cos\", cos_table)\n",
    "append_table(\"sin\", sin_table)\n",
    "\n",
    "c_content += f\"\"\"\n",
    "\n",
    "softfloat_t float_scale()\n",
    "{{\n",
    "    return {size};\n",
    "}}\n",
    "\"\"\"\n",
    "\n",
    "c_content += f\"\"\"\n",
    "softfloat_t soft_cos(softfloat_t value)\n",
    "{{\n",
    "    return _cos_table[value % {len(cos_table)}];\n",
    "}}\n",
    "\n",
    "softfloat_t soft_sin(softfloat_t value)\n",
    "{{\n",
    "    return _sin_table[value % {len(sin_table)}];\n",
    "}}\n",
    "\"\"\"\n",
    "\n",
    "\n",
    "h_src.write_text(h_content)\n",
    "c_src.write_text(c_content)"
   ]
  }
 ],
 "metadata": {
  "interpreter": {
   "hash": "d9beb39d52efc2960c106d25b0414ec8310c4a0710e9d7d9243b1827c82d8660"
  },
  "kernelspec": {
   "display_name": "Python 3.8.10 64-bit ('pyenv': venv)",
   "language": "python",
   "name": "python3"
  },
  "language_info": {
   "codemirror_mode": {
    "name": "ipython",
    "version": 3
   },
   "file_extension": ".py",
   "mimetype": "text/x-python",
   "name": "python",
   "nbconvert_exporter": "python",
   "pygments_lexer": "ipython3",
   "version": "3.10.4"
  },
  "orig_nbformat": 4
 },
 "nbformat": 4,
 "nbformat_minor": 2
}
